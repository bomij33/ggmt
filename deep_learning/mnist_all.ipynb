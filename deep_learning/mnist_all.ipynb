{
  "cells": [
    {
      "cell_type": "markdown",
      "metadata": {
        "id": "view-in-github",
        "colab_type": "text"
      },
      "source": [
        "<a href=\"https://colab.research.google.com/github/bomij33/ggmt/blob/main/deep_learning/mnist_all.ipynb\" target=\"_parent\"><img src=\"https://colab.research.google.com/assets/colab-badge.svg\" alt=\"Open In Colab\"/></a>"
      ]
    },
    {
      "cell_type": "markdown",
      "metadata": {
        "id": "gYcqkF7QdCFE"
      },
      "source": [
        "### KERAS를 이용한 MNIST \n",
        "\n",
        "# <span style=\"color:blue\">1. KERAS란</span>\n",
        "\n",
        "### 초기에 ONEIROS(Open-ended Neuro-Electronic Intelligent Robot Operating System)라는 프로젝트의 ,<br/> 일환으로 개발된 파이썬 딥러닝 라이브러리로 TensorFLow, CNTK, 혹은 Theano와 함께 사용할 수 있다.\n",
        "\n",
        "# <span style=\"color:blue\">2. MNIST란</span>\n",
        "\n",
        "### MNIST는 Modified National Institute of Standards and Technology database의 약자로\n",
        "### 인공지능 연구의 권위자 LeCun교수가 만든 데이터 셋이고 <br> MNIST는 60,000개의 트레이닝 셋과 10,000개의 테스트 셋으로 이루어져 있고 이중 트레이닝 셋을 학습데이터로 <br> 사용하고 테스트 셋을 신경망을 검증하는 데에 사용합니다.\n",
        "<br>\n"
      ]
    },
    {
      "cell_type": "markdown",
      "metadata": {
        "id": "swo4z9KbdCFH"
      },
      "source": [
        "# **3. SETUP**"
      ]
    },
    {
      "cell_type": "code",
      "execution_count": null,
      "metadata": {
        "id": "mNP3IWMudCFI"
      },
      "outputs": [],
      "source": [
        "import numpy as np\n",
        "from tensorflow import keras\n",
        "from tensorflow.keras import layers\n",
        "from matplotlib import pyplot as plt\n",
        "from tabulate import tabulate"
      ]
    },
    {
      "cell_type": "markdown",
      "metadata": {
        "id": "PAygzZXpdCFJ"
      },
      "source": [
        "# **4. 모델을 만들기 위한 값 설정**\n",
        "### <span style=\"color:blue\">숫자 0~9(총10가지)</span>를 분류하는 모델을 만듬\n",
        "### MNIST 데이터셋의 각 그림은 크기가 28X28 픽셀"
      ]
    },
    {
      "cell_type": "code",
      "execution_count": null,
      "metadata": {
        "id": "nV6JbZAbdCFK"
      },
      "outputs": [],
      "source": [
        "# Model / data parameters\n",
        "num_classes = 10\n",
        "input_shape = (28, 28, 1)"
      ]
    },
    {
      "cell_type": "markdown",
      "metadata": {
        "id": "BxPez2xZdCFK"
      },
      "source": [
        "# **5. 데이터셋 불러오기 및 불러온 데이터 보기**\n",
        "### 1) 데이터는 <br/><br/>훈련용데이터 : x_train, &nbsp;&nbsp;&nbsp;&nbsp;&nbsp;&nbsp; 답이 맞는지 테스트 하기위한 데이터 : x_test\n",
        "### 훈련용데이터의 답 : y_train, &nbsp;&nbsp;&nbsp;&nbsp;&nbsp;&nbsp; 테스트용 데이터의 답 : y_test\n"
      ]
    },
    {
      "cell_type": "code",
      "execution_count": null,
      "metadata": {
        "colab": {
          "base_uri": "https://localhost:8080/"
        },
        "id": "kBOVvzwddCFK",
        "outputId": "3be4dc82-46f1-4b47-96f7-ec86971e94f4"
      },
      "outputs": [
        {
          "output_type": "stream",
          "name": "stdout",
          "text": [
            "Downloading data from https://storage.googleapis.com/tensorflow/tf-keras-datasets/mnist.npz\n",
            "11493376/11490434 [==============================] - 0s 0us/step\n",
            "11501568/11490434 [==============================] - 0s 0us/step\n"
          ]
        }
      ],
      "source": [
        "# the data, split between train and test sets\n",
        "(x_train, y_train), (x_test, y_test) = keras.datasets.mnist.load_data()"
      ]
    },
    {
      "cell_type": "markdown",
      "metadata": {
        "id": "9QsK60MZdCFL"
      },
      "source": [
        "### 2) 훈련용 데이터의 그림"
      ]
    },
    {
      "cell_type": "code",
      "execution_count": null,
      "metadata": {
        "colab": {
          "base_uri": "https://localhost:8080/",
          "height": 168
        },
        "id": "A1C3TnfVdCFL",
        "outputId": "6954b5d4-fe98-41f7-e102-d3f7e5afa2a3"
      },
      "outputs": [
        {
          "output_type": "display_data",
          "data": {
            "text/plain": [
              "<Figure size 2160x2160 with 20 Axes>"
            ],
            "image/png": "[encoded data removed]"
          },
          "metadata": {
            "needs_background": "light"
          }
        }
      ],
      "source": [
        "rows = 2\n",
        "cols = 10\n",
        "axes=[]\n",
        "fig=plt.figure(figsize=(30,30))\n",
        "\n",
        "for a in range(rows*cols):\n",
        "    axes.append( fig.add_subplot(rows, cols, a+1) )\n",
        "    subplot_title=(\"Subplot\"+str(a))\n",
        "    axes[-1].set_title(subplot_title)  \n",
        "    plt.imshow(x_train[a],cmap='gray')\n",
        "#fig.tight_layout() \n",
        "plt.subplots_adjust(bottom=0.1,top=0.2)\n",
        "plt.show()"
      ]
    },
    {
      "cell_type": "markdown",
      "metadata": {
        "id": "ghRPv5urdCFM"
      },
      "source": [
        "### 3) 그림 데이터를 숫자로 바꿈\n",
        "### 흰색이 0, 검정색이 255\n",
        "### 30번째 데이터의 모습과, 30번째 답의 모습 출력"
      ]
    },
    {
      "cell_type": "code",
      "execution_count": null,
      "metadata": {
        "colab": {
          "base_uri": "https://localhost:8080/"
        },
        "id": "BOvyKjD1dCFM",
        "outputId": "9c1d1fbf-b278-4945-cdfa-b310cc69f2a6"
      },
      "outputs": [
        {
          "output_type": "stream",
          "name": "stdout",
          "text": [
            "x_train[30] data = \n",
            " -  -  -  ---  ---  ---  ---  ---  ---  ---  ---  ---  ---  ---  ---  ---  ---  ---  ---  ---  ---  ---  ---  -  -  -  -  -\n",
            "0  0  0    0    0    0    0    0    0    0    0    0    0    0    0    0    0    0    0    0    0    0    0  0  0  0  0  0\n",
            "0  0  0    0    0    0    0    0    0    0    0    0    0    0    0    0    0    0    0    0    0    0    0  0  0  0  0  0\n",
            "0  0  0    0    0    0    0    0    0    0    0    0    0    0    0    0    0    0    0    0    0    0    0  0  0  0  0  0\n",
            "0  0  0    0    0    0    0    0    0    0    0    0    0    0    0    0    0    0    0    0    0    0    0  0  0  0  0  0\n",
            "0  0  0    0    0    0    0    0    0    0    0    0    0    0    0    0    0    0    0    0    0    0    0  0  0  0  0  0\n",
            "0  0  0    0    0    0    0    0    0    0    0    0    0    0    0    0    0    0    0    0    0    0    0  0  0  0  0  0\n",
            "0  0  0    0    0    0    0    0    0    0    0    0    0    0    0    0    0    0    0    0    0    0    0  0  0  0  0  0\n",
            "0  0  0    0    0   11   19   95  143  143  143  143  143  143  143  143   33    0    0    0    0    0    0  0  0  0  0  0\n",
            "0  0  0   90  149  208  253  253  253  253  253  253  253  253  253  253  217   22    0    0    0    0    0  0  0  0  0  0\n",
            "0  0  0  255  253  251  222  222  161  140   99   99   99   99  143  253  253  113    0    0    0    0    0  0  0  0  0  0\n",
            "0  0  0  217  210   86    0    0    0    0    0    0    0   29  161  253  253   82    0    0    0    0    0  0  0  0  0  0\n",
            "0  0  0    0    0    0    0    0    0    0    0    0   33  203  253  253  174   13    0    0    0    0    0  0  0  0  0  0\n",
            "0  0  0    0    0    0    0    0    0    0   10   78  232  253  253  253   43    0    0    0    0    0    0  0  0  0  0  0\n",
            "0  0  0    0    0    0    0    0    0    0  138  253  253  253  253  253  192  180  180  128   32    0    0  0  0  0  0  0\n",
            "0  0  0    0    0    0    0    0    0    0  174  253  253  253  253  253  253  253  253  253  169    3    0  0  0  0  0  0\n",
            "0  0  0    0    0    0    0    0    0    0   42   61   61   61   61   83  176   79  110  247  253  195    4  0  0  0  0  0\n",
            "0  0  0    0    0    0    0    0    0    0    0    0    0    0   59  192   30    0    0   50  203  253   42  0  0  0  0  0\n",
            "0  0  0    0    0    0    0    0    0    0    0    0    0   56  195   57    0    0    0    0  112  253  229  0  0  0  0  0\n",
            "0  0  0    0    0    0    0    0    0    0    0    0    0  172  204   17    0    0    0    0   58  248  253  0  0  0  0  0\n",
            "0  0  0    0    0    0    0    0    0    0    0    0    0  192  253  184   62    0    0   85  164  253  253  0  0  0  0  0\n",
            "0  0  0    0    0    0    0    0    0    0    0    0    0  144  253  253  243  223  223  250  253  253   96  0  0  0  0  0\n",
            "0  0  0    0    0    0    0    0    0    0    0    0    0    7  152  253  253  253  253  253  253  152    3  0  0  0  0  0\n",
            "0  0  0    0    0    0    0    0    0    0    0    0    0    0    6   18  122  141  141  141   87    1    0  0  0  0  0  0\n",
            "0  0  0    0    0    0    0    0    0    0    0    0    0    0    0    0    0    0    0    0    0    0    0  0  0  0  0  0\n",
            "0  0  0    0    0    0    0    0    0    0    0    0    0    0    0    0    0    0    0    0    0    0    0  0  0  0  0  0\n",
            "0  0  0    0    0    0    0    0    0    0    0    0    0    0    0    0    0    0    0    0    0    0    0  0  0  0  0  0\n",
            "0  0  0    0    0    0    0    0    0    0    0    0    0    0    0    0    0    0    0    0    0    0    0  0  0  0  0  0\n",
            "0  0  0    0    0    0    0    0    0    0    0    0    0    0    0    0    0    0    0    0    0    0    0  0  0  0  0  0\n",
            "-  -  -  ---  ---  ---  ---  ---  ---  ---  ---  ---  ---  ---  ---  ---  ---  ---  ---  ---  ---  ---  ---  -  -  -  -  -\n",
            "y_train[30] data =  3\n"
          ]
        }
      ],
      "source": [
        "print('x_train[30] data = \\n', tabulate(x_train[30]))\n",
        "print('y_train[30] data = ',y_train[30])"
      ]
    },
    {
      "cell_type": "markdown",
      "metadata": {
        "id": "bTsAsEVkdCFN"
      },
      "source": [
        "# **6. 학습을 시키기 위한 데이터 사전 처리 과정**\n",
        "### 1) \"0에서 255까지\"의 분포 값을 0~1 사이의 값으로 바꿈"
      ]
    },
    {
      "cell_type": "code",
      "execution_count": null,
      "metadata": {
        "colab": {
          "base_uri": "https://localhost:8080/"
        },
        "id": "zOpabdozdCFN",
        "outputId": "15b546eb-aea1-4750-8189-360c29d36c2f"
      },
      "outputs": [
        {
          "output_type": "stream",
          "name": "stdout",
          "text": [
            "x_train[30] data = \n",
            " -  -  -  --------  --------  ---------  ---------  --------  --------  --------  ---------  --------  --------  --------  ---------  ---------  --------  ---------  --------  --------  --------  ----------  ---------  -  -  -  -  -\n",
            "0  0  0  0         0         0          0          0         0         0         0          0         0         0         0          0          0         0          0         0         0         0           0          0  0  0  0  0\n",
            "0  0  0  0         0         0          0          0         0         0         0          0         0         0         0          0          0         0          0         0         0         0           0          0  0  0  0  0\n",
            "0  0  0  0         0         0          0          0         0         0         0          0         0         0         0          0          0         0          0         0         0         0           0          0  0  0  0  0\n",
            "0  0  0  0         0         0          0          0         0         0         0          0         0         0         0          0          0         0          0         0         0         0           0          0  0  0  0  0\n",
            "0  0  0  0         0         0          0          0         0         0         0          0         0         0         0          0          0         0          0         0         0         0           0          0  0  0  0  0\n",
            "0  0  0  0         0         0          0          0         0         0         0          0         0         0         0          0          0         0          0         0         0         0           0          0  0  0  0  0\n",
            "0  0  0  0         0         0          0          0         0         0         0          0         0         0         0          0          0         0          0         0         0         0           0          0  0  0  0  0\n",
            "0  0  0  0         0         0.0431373  0.0745098  0.372549  0.560784  0.560784  0.560784   0.560784  0.560784  0.560784  0.560784   0.560784   0.129412  0          0         0         0         0           0          0  0  0  0  0\n",
            "0  0  0  0.352941  0.584314  0.815686   0.992157   0.992157  0.992157  0.992157  0.992157   0.992157  0.992157  0.992157  0.992157   0.992157   0.85098   0.0862745  0         0         0         0           0          0  0  0  0  0\n",
            "0  0  0  1         0.992157  0.984314   0.870588   0.870588  0.631373  0.54902   0.388235   0.388235  0.388235  0.388235  0.560784   0.992157   0.992157  0.443137   0         0         0         0           0          0  0  0  0  0\n",
            "0  0  0  0.85098   0.823529  0.337255   0          0         0         0         0          0         0         0.113725  0.631373   0.992157   0.992157  0.321569   0         0         0         0           0          0  0  0  0  0\n",
            "0  0  0  0         0         0          0          0         0         0         0          0         0.129412  0.796078  0.992157   0.992157   0.682353  0.0509804  0         0         0         0           0          0  0  0  0  0\n",
            "0  0  0  0         0         0          0          0         0         0         0.0392157  0.305882  0.909804  0.992157  0.992157   0.992157   0.168627  0          0         0         0         0           0          0  0  0  0  0\n",
            "0  0  0  0         0         0          0          0         0         0         0.541176   0.992157  0.992157  0.992157  0.992157   0.992157   0.752941  0.705882   0.705882  0.501961  0.12549   0           0          0  0  0  0  0\n",
            "0  0  0  0         0         0          0          0         0         0         0.682353   0.992157  0.992157  0.992157  0.992157   0.992157   0.992157  0.992157   0.992157  0.992157  0.662745  0.0117647   0          0  0  0  0  0\n",
            "0  0  0  0         0         0          0          0         0         0         0.164706   0.239216  0.239216  0.239216  0.239216   0.32549    0.690196  0.309804   0.431373  0.968627  0.992157  0.764706    0.0156863  0  0  0  0  0\n",
            "0  0  0  0         0         0          0          0         0         0         0          0         0         0         0.231373   0.752941   0.117647  0          0         0.196078  0.796078  0.992157    0.164706   0  0  0  0  0\n",
            "0  0  0  0         0         0          0          0         0         0         0          0         0         0.219608  0.764706   0.223529   0         0          0         0         0.439216  0.992157    0.898039   0  0  0  0  0\n",
            "0  0  0  0         0         0          0          0         0         0         0          0         0         0.67451   0.8        0.0666667  0         0          0         0         0.227451  0.972549    0.992157   0  0  0  0  0\n",
            "0  0  0  0         0         0          0          0         0         0         0          0         0         0.752941  0.992157   0.721569   0.243137  0          0         0.333333  0.643137  0.992157    0.992157   0  0  0  0  0\n",
            "0  0  0  0         0         0          0          0         0         0         0          0         0         0.564706  0.992157   0.992157   0.952941  0.87451    0.87451   0.980392  0.992157  0.992157    0.376471   0  0  0  0  0\n",
            "0  0  0  0         0         0          0          0         0         0         0          0         0         0.027451  0.596078   0.992157   0.992157  0.992157   0.992157  0.992157  0.992157  0.596078    0.0117647  0  0  0  0  0\n",
            "0  0  0  0         0         0          0          0         0         0         0          0         0         0         0.0235294  0.0705882  0.478431  0.552941   0.552941  0.552941  0.341176  0.00392157  0          0  0  0  0  0\n",
            "0  0  0  0         0         0          0          0         0         0         0          0         0         0         0          0          0         0          0         0         0         0           0          0  0  0  0  0\n",
            "0  0  0  0         0         0          0          0         0         0         0          0         0         0         0          0          0         0          0         0         0         0           0          0  0  0  0  0\n",
            "0  0  0  0         0         0          0          0         0         0         0          0         0         0         0          0          0         0          0         0         0         0           0          0  0  0  0  0\n",
            "0  0  0  0         0         0          0          0         0         0         0          0         0         0         0          0          0         0          0         0         0         0           0          0  0  0  0  0\n",
            "0  0  0  0         0         0          0          0         0         0         0          0         0         0         0          0          0         0          0         0         0         0           0          0  0  0  0  0\n",
            "-  -  -  --------  --------  ---------  ---------  --------  --------  --------  ---------  --------  --------  --------  ---------  ---------  --------  ---------  --------  --------  --------  ----------  ---------  -  -  -  -  -\n"
          ]
        }
      ],
      "source": [
        "# 전처리 작업 : 특성 무시하는 % 개념의 값으로 변경. => 정규화 과정 : 계산 쉽고, 이해 쉬움 \n",
        "# Scale images to the [0, 1] range\n",
        "x_train = x_train.astype(\"float32\") / 255\n",
        "x_test = x_test.astype(\"float32\") / 255\n",
        "\n",
        "print('x_train[30] data = \\n', tabulate(x_train[30]))"
      ]
    },
    {
      "cell_type": "markdown",
      "metadata": {
        "id": "jsKT6dH2dCFN"
      },
      "source": [
        "### 2) 전체 훈련과 테스트 데이터를 1개의 배열에 넣음"
      ]
    },
    {
      "cell_type": "code",
      "execution_count": null,
      "metadata": {
        "colab": {
          "base_uri": "https://localhost:8080/"
        },
        "id": "3Tsh4epBdCFO",
        "outputId": "af022f17-fc95-41e0-c98c-e19f372ae009"
      },
      "outputs": [
        {
          "output_type": "stream",
          "name": "stdout",
          "text": [
            "x_train shape: (60000, 28, 28, 1)\n",
            "60000 train samples\n",
            "10000 test samples\n"
          ]
        }
      ],
      "source": [
        "# Make sure images have shape (28, 28, 1)\n",
        "x_train = np.expand_dims(x_train, -1)\n",
        "x_test = np.expand_dims(x_test, -1)\n",
        "print(\"x_train shape:\", x_train.shape)\n",
        "print(x_train.shape[0], \"train samples\")\n",
        "print(x_test.shape[0], \"test samples\")\n",
        "\n",
        "\n",
        "# convert class vectors to binary class matrices\n",
        "y_train = keras.utils.to_categorical(y_train, num_classes)\n",
        "y_test = keras.utils.to_categorical(y_test, num_classes)"
      ]
    },
    {
      "cell_type": "markdown",
      "metadata": {
        "id": "9u_aOfnzdCFO"
      },
      "source": [
        "# **7. 모델을 구성하기**\n",
        "### 딥러닝의 하나인 <span style=\"color:blue\">CNN(합성곱 신경망)</span>을 사용"
      ]
    },
    {
      "cell_type": "code",
      "execution_count": null,
      "metadata": {
        "colab": {
          "base_uri": "https://localhost:8080/"
        },
        "id": "iv2-7bu4dCFO",
        "outputId": "98177609-c0e8-4e7a-a81f-a6b6da17d62f"
      },
      "outputs": [
        {
          "output_type": "stream",
          "name": "stdout",
          "text": [
            "Model: \"sequential\"\n",
            "_________________________________________________________________\n",
            " Layer (type)                Output Shape              Param #   \n",
            "=================================================================\n",
            " conv2d (Conv2D)             (None, 26, 26, 32)        320       \n",
            "                                                                 \n",
            " max_pooling2d (MaxPooling2D  (None, 13, 13, 32)       0         \n",
            " )                                                               \n",
            "                                                                 \n",
            " conv2d_1 (Conv2D)           (None, 11, 11, 64)        18496     \n",
            "                                                                 \n",
            " max_pooling2d_1 (MaxPooling  (None, 5, 5, 64)         0         \n",
            " 2D)                                                             \n",
            "                                                                 \n",
            " flatten (Flatten)           (None, 1600)              0         \n",
            "                                                                 \n",
            " dropout (Dropout)           (None, 1600)              0         \n",
            "                                                                 \n",
            " dense (Dense)               (None, 10)                16010     \n",
            "                                                                 \n",
            "=================================================================\n",
            "Total params: 34,826\n",
            "Trainable params: 34,826\n",
            "Non-trainable params: 0\n",
            "_________________________________________________________________\n"
          ]
        }
      ],
      "source": [
        "model = keras.Sequential(\n",
        "    [\n",
        "        keras.Input(shape=input_shape),\n",
        "        layers.Conv2D(32, kernel_size=(3, 3), activation=\"relu\"),\n",
        "        layers.MaxPooling2D(pool_size=(2, 2)),\n",
        "        layers.Conv2D(64, kernel_size=(3, 3), activation=\"relu\"),\n",
        "        layers.MaxPooling2D(pool_size=(2, 2)),\n",
        "        layers.Flatten(),\n",
        "        layers.Dropout(0.5),\n",
        "        layers.Dense(num_classes, activation=\"softmax\"),\n",
        "    ]\n",
        ")\n",
        "\n",
        "model.summary()"
      ]
    },
    {
      "cell_type": "markdown",
      "metadata": {
        "id": "1QNThqrXdCFO"
      },
      "source": [
        "# **8. 학습시키기**\n",
        "\n",
        "### batcg_size : 한번에 불러 올 데이터(그림)의 수\n",
        "### epochs : 학습 시키는 횟 수"
      ]
    },
    {
      "cell_type": "code",
      "execution_count": null,
      "metadata": {
        "colab": {
          "base_uri": "https://localhost:8080/"
        },
        "id": "h8XlXK2TdCFP",
        "outputId": "d1bd4998-8199-4ea5-ab8b-5cd88469fda4"
      },
      "outputs": [
        {
          "output_type": "stream",
          "name": "stdout",
          "text": [
            "Epoch 1/100\n",
            "422/422 [==============================] - 3s 6ms/step - loss: 0.0093 - acc: 0.9966 - val_loss: 0.0393 - val_acc: 0.9928\n",
            "Epoch 2/100\n",
            "422/422 [==============================] - 2s 5ms/step - loss: 0.0086 - acc: 0.9970 - val_loss: 0.0396 - val_acc: 0.9932\n",
            "Epoch 3/100\n",
            "422/422 [==============================] - 2s 5ms/step - loss: 0.0092 - acc: 0.9969 - val_loss: 0.0423 - val_acc: 0.9928\n",
            "Epoch 4/100\n",
            "422/422 [==============================] - 2s 4ms/step - loss: 0.0105 - acc: 0.9963 - val_loss: 0.0385 - val_acc: 0.9932\n",
            "Epoch 5/100\n",
            "422/422 [==============================] - 2s 4ms/step - loss: 0.0089 - acc: 0.9970 - val_loss: 0.0394 - val_acc: 0.9932\n",
            "Epoch 6/100\n",
            "422/422 [==============================] - 2s 4ms/step - loss: 0.0086 - acc: 0.9970 - val_loss: 0.0390 - val_acc: 0.9935\n",
            "Epoch 7/100\n",
            "422/422 [==============================] - 2s 4ms/step - loss: 0.0085 - acc: 0.9972 - val_loss: 0.0389 - val_acc: 0.9935\n",
            "Epoch 8/100\n",
            "422/422 [==============================] - 2s 5ms/step - loss: 0.0092 - acc: 0.9967 - val_loss: 0.0399 - val_acc: 0.9937\n",
            "Epoch 9/100\n",
            "422/422 [==============================] - 2s 4ms/step - loss: 0.0097 - acc: 0.9967 - val_loss: 0.0392 - val_acc: 0.9933\n",
            "Epoch 10/100\n",
            "422/422 [==============================] - 2s 5ms/step - loss: 0.0092 - acc: 0.9966 - val_loss: 0.0354 - val_acc: 0.9940\n",
            "Epoch 11/100\n",
            "422/422 [==============================] - 2s 4ms/step - loss: 0.0084 - acc: 0.9969 - val_loss: 0.0383 - val_acc: 0.9935\n",
            "Epoch 12/100\n",
            "422/422 [==============================] - 2s 5ms/step - loss: 0.0088 - acc: 0.9969 - val_loss: 0.0372 - val_acc: 0.9932\n",
            "Epoch 13/100\n",
            "422/422 [==============================] - 3s 6ms/step - loss: 0.0074 - acc: 0.9974 - val_loss: 0.0402 - val_acc: 0.9928\n",
            "Epoch 14/100\n",
            "422/422 [==============================] - 2s 4ms/step - loss: 0.0084 - acc: 0.9972 - val_loss: 0.0398 - val_acc: 0.9938\n",
            "Epoch 15/100\n",
            "422/422 [==============================] - 2s 4ms/step - loss: 0.0085 - acc: 0.9968 - val_loss: 0.0407 - val_acc: 0.9927\n",
            "Epoch 16/100\n",
            "422/422 [==============================] - 2s 4ms/step - loss: 0.0086 - acc: 0.9967 - val_loss: 0.0423 - val_acc: 0.9927\n",
            "Epoch 17/100\n",
            "422/422 [==============================] - 2s 4ms/step - loss: 0.0085 - acc: 0.9968 - val_loss: 0.0435 - val_acc: 0.9927\n",
            "Epoch 18/100\n",
            "422/422 [==============================] - 2s 4ms/step - loss: 0.0099 - acc: 0.9967 - val_loss: 0.0414 - val_acc: 0.9927\n",
            "Epoch 19/100\n",
            "422/422 [==============================] - 2s 5ms/step - loss: 0.0089 - acc: 0.9969 - val_loss: 0.0394 - val_acc: 0.9930\n",
            "Epoch 20/100\n",
            "422/422 [==============================] - 2s 4ms/step - loss: 0.0078 - acc: 0.9973 - val_loss: 0.0358 - val_acc: 0.9930\n",
            "Epoch 21/100\n",
            "422/422 [==============================] - 2s 5ms/step - loss: 0.0080 - acc: 0.9974 - val_loss: 0.0402 - val_acc: 0.9925\n",
            "Epoch 22/100\n",
            "422/422 [==============================] - 2s 4ms/step - loss: 0.0083 - acc: 0.9970 - val_loss: 0.0373 - val_acc: 0.9930\n",
            "Epoch 23/100\n",
            "422/422 [==============================] - 2s 4ms/step - loss: 0.0096 - acc: 0.9969 - val_loss: 0.0417 - val_acc: 0.9928\n",
            "Epoch 24/100\n",
            "422/422 [==============================] - 2s 4ms/step - loss: 0.0071 - acc: 0.9976 - val_loss: 0.0394 - val_acc: 0.9933\n",
            "Epoch 25/100\n",
            "422/422 [==============================] - 2s 4ms/step - loss: 0.0088 - acc: 0.9967 - val_loss: 0.0398 - val_acc: 0.9927\n",
            "Epoch 26/100\n",
            "422/422 [==============================] - 2s 5ms/step - loss: 0.0084 - acc: 0.9970 - val_loss: 0.0347 - val_acc: 0.9928\n",
            "Epoch 27/100\n",
            "422/422 [==============================] - 2s 4ms/step - loss: 0.0081 - acc: 0.9971 - val_loss: 0.0401 - val_acc: 0.9932\n",
            "Epoch 28/100\n",
            "422/422 [==============================] - 2s 4ms/step - loss: 0.0077 - acc: 0.9974 - val_loss: 0.0395 - val_acc: 0.9933\n",
            "Epoch 29/100\n",
            "422/422 [==============================] - 2s 4ms/step - loss: 0.0078 - acc: 0.9974 - val_loss: 0.0395 - val_acc: 0.9930\n",
            "Epoch 30/100\n",
            "422/422 [==============================] - 2s 4ms/step - loss: 0.0076 - acc: 0.9974 - val_loss: 0.0360 - val_acc: 0.9933\n",
            "Epoch 31/100\n",
            "422/422 [==============================] - 2s 4ms/step - loss: 0.0075 - acc: 0.9973 - val_loss: 0.0357 - val_acc: 0.9937\n",
            "Epoch 32/100\n",
            "422/422 [==============================] - 2s 4ms/step - loss: 0.0080 - acc: 0.9972 - val_loss: 0.0381 - val_acc: 0.9935\n",
            "Epoch 33/100\n",
            "422/422 [==============================] - 2s 4ms/step - loss: 0.0087 - acc: 0.9969 - val_loss: 0.0398 - val_acc: 0.9933\n",
            "Epoch 34/100\n",
            "422/422 [==============================] - 2s 4ms/step - loss: 0.0081 - acc: 0.9973 - val_loss: 0.0406 - val_acc: 0.9940\n",
            "Epoch 35/100\n",
            "422/422 [==============================] - 2s 4ms/step - loss: 0.0073 - acc: 0.9975 - val_loss: 0.0393 - val_acc: 0.9937\n",
            "Epoch 36/100\n",
            "422/422 [==============================] - 2s 4ms/step - loss: 0.0090 - acc: 0.9970 - val_loss: 0.0371 - val_acc: 0.9935\n",
            "Epoch 37/100\n",
            "422/422 [==============================] - 2s 4ms/step - loss: 0.0087 - acc: 0.9969 - val_loss: 0.0380 - val_acc: 0.9933\n",
            "Epoch 38/100\n",
            "422/422 [==============================] - 2s 4ms/step - loss: 0.0064 - acc: 0.9979 - val_loss: 0.0391 - val_acc: 0.9933\n",
            "Epoch 39/100\n",
            "422/422 [==============================] - 2s 4ms/step - loss: 0.0067 - acc: 0.9977 - val_loss: 0.0394 - val_acc: 0.9932\n",
            "Epoch 40/100\n",
            "422/422 [==============================] - 2s 5ms/step - loss: 0.0068 - acc: 0.9976 - val_loss: 0.0422 - val_acc: 0.9935\n",
            "Epoch 41/100\n",
            "422/422 [==============================] - 2s 5ms/step - loss: 0.0072 - acc: 0.9975 - val_loss: 0.0367 - val_acc: 0.9933\n",
            "Epoch 42/100\n",
            "422/422 [==============================] - 2s 4ms/step - loss: 0.0081 - acc: 0.9973 - val_loss: 0.0411 - val_acc: 0.9942\n",
            "Epoch 43/100\n",
            "422/422 [==============================] - 2s 4ms/step - loss: 0.0072 - acc: 0.9973 - val_loss: 0.0420 - val_acc: 0.9928\n",
            "Epoch 44/100\n",
            "422/422 [==============================] - 2s 5ms/step - loss: 0.0070 - acc: 0.9977 - val_loss: 0.0385 - val_acc: 0.9935\n",
            "Epoch 45/100\n",
            "422/422 [==============================] - 2s 4ms/step - loss: 0.0078 - acc: 0.9970 - val_loss: 0.0406 - val_acc: 0.9933\n",
            "Epoch 46/100\n",
            "422/422 [==============================] - 2s 4ms/step - loss: 0.0077 - acc: 0.9974 - val_loss: 0.0389 - val_acc: 0.9935\n",
            "Epoch 47/100\n",
            "422/422 [==============================] - 2s 4ms/step - loss: 0.0084 - acc: 0.9974 - val_loss: 0.0405 - val_acc: 0.9930\n",
            "Epoch 48/100\n",
            "422/422 [==============================] - 2s 4ms/step - loss: 0.0058 - acc: 0.9981 - val_loss: 0.0442 - val_acc: 0.9930\n",
            "Epoch 49/100\n",
            "422/422 [==============================] - 2s 5ms/step - loss: 0.0084 - acc: 0.9972 - val_loss: 0.0424 - val_acc: 0.9933\n",
            "Epoch 50/100\n",
            "422/422 [==============================] - 4s 9ms/step - loss: 0.0066 - acc: 0.9977 - val_loss: 0.0406 - val_acc: 0.9930\n",
            "Epoch 51/100\n",
            "422/422 [==============================] - 4s 10ms/step - loss: 0.0072 - acc: 0.9975 - val_loss: 0.0418 - val_acc: 0.9935\n",
            "Epoch 52/100\n",
            "422/422 [==============================] - 3s 8ms/step - loss: 0.0059 - acc: 0.9978 - val_loss: 0.0427 - val_acc: 0.9932\n",
            "Epoch 53/100\n",
            "422/422 [==============================] - 2s 4ms/step - loss: 0.0069 - acc: 0.9980 - val_loss: 0.0430 - val_acc: 0.9933\n",
            "Epoch 54/100\n",
            "422/422 [==============================] - 2s 4ms/step - loss: 0.0083 - acc: 0.9973 - val_loss: 0.0407 - val_acc: 0.9933\n",
            "Epoch 55/100\n",
            "422/422 [==============================] - 2s 5ms/step - loss: 0.0078 - acc: 0.9976 - val_loss: 0.0418 - val_acc: 0.9927\n",
            "Epoch 56/100\n",
            "422/422 [==============================] - 2s 4ms/step - loss: 0.0064 - acc: 0.9978 - val_loss: 0.0432 - val_acc: 0.9925\n",
            "Epoch 57/100\n",
            "422/422 [==============================] - 2s 4ms/step - loss: 0.0064 - acc: 0.9978 - val_loss: 0.0437 - val_acc: 0.9927\n",
            "Epoch 58/100\n",
            "422/422 [==============================] - 2s 4ms/step - loss: 0.0072 - acc: 0.9975 - val_loss: 0.0443 - val_acc: 0.9932\n",
            "Epoch 59/100\n",
            "422/422 [==============================] - 2s 4ms/step - loss: 0.0069 - acc: 0.9975 - val_loss: 0.0434 - val_acc: 0.9927\n",
            "Epoch 60/100\n",
            "422/422 [==============================] - 2s 4ms/step - loss: 0.0074 - acc: 0.9976 - val_loss: 0.0437 - val_acc: 0.9917\n",
            "Epoch 61/100\n",
            "422/422 [==============================] - 2s 4ms/step - loss: 0.0072 - acc: 0.9972 - val_loss: 0.0390 - val_acc: 0.9930\n",
            "Epoch 62/100\n",
            "422/422 [==============================] - 2s 4ms/step - loss: 0.0069 - acc: 0.9976 - val_loss: 0.0407 - val_acc: 0.9937\n",
            "Epoch 63/100\n",
            "422/422 [==============================] - 2s 4ms/step - loss: 0.0079 - acc: 0.9975 - val_loss: 0.0406 - val_acc: 0.9930\n",
            "Epoch 64/100\n",
            "422/422 [==============================] - 2s 4ms/step - loss: 0.0054 - acc: 0.9982 - val_loss: 0.0473 - val_acc: 0.9932\n",
            "Epoch 65/100\n",
            "422/422 [==============================] - 2s 4ms/step - loss: 0.0060 - acc: 0.9978 - val_loss: 0.0440 - val_acc: 0.9928\n",
            "Epoch 66/100\n",
            "422/422 [==============================] - 2s 5ms/step - loss: 0.0076 - acc: 0.9974 - val_loss: 0.0375 - val_acc: 0.9942\n",
            "Epoch 67/100\n",
            "422/422 [==============================] - 2s 4ms/step - loss: 0.0061 - acc: 0.9978 - val_loss: 0.0432 - val_acc: 0.9930\n",
            "Epoch 68/100\n",
            "422/422 [==============================] - 2s 4ms/step - loss: 0.0068 - acc: 0.9976 - val_loss: 0.0459 - val_acc: 0.9932\n",
            "Epoch 69/100\n",
            "422/422 [==============================] - 2s 5ms/step - loss: 0.0065 - acc: 0.9976 - val_loss: 0.0410 - val_acc: 0.9938\n",
            "Epoch 70/100\n",
            "422/422 [==============================] - 2s 4ms/step - loss: 0.0062 - acc: 0.9979 - val_loss: 0.0449 - val_acc: 0.9923\n",
            "Epoch 71/100\n",
            "422/422 [==============================] - 2s 5ms/step - loss: 0.0073 - acc: 0.9973 - val_loss: 0.0455 - val_acc: 0.9923\n",
            "Epoch 72/100\n",
            "422/422 [==============================] - 2s 4ms/step - loss: 0.0070 - acc: 0.9976 - val_loss: 0.0438 - val_acc: 0.9920\n",
            "Epoch 73/100\n",
            "422/422 [==============================] - 2s 4ms/step - loss: 0.0062 - acc: 0.9978 - val_loss: 0.0443 - val_acc: 0.9933\n",
            "Epoch 74/100\n",
            "422/422 [==============================] - 2s 5ms/step - loss: 0.0065 - acc: 0.9978 - val_loss: 0.0427 - val_acc: 0.9937\n",
            "Epoch 75/100\n",
            "422/422 [==============================] - 2s 4ms/step - loss: 0.0079 - acc: 0.9973 - val_loss: 0.0426 - val_acc: 0.9933\n",
            "Epoch 76/100\n",
            "422/422 [==============================] - 2s 4ms/step - loss: 0.0067 - acc: 0.9978 - val_loss: 0.0392 - val_acc: 0.9937\n",
            "Epoch 77/100\n",
            "422/422 [==============================] - 2s 4ms/step - loss: 0.0081 - acc: 0.9974 - val_loss: 0.0432 - val_acc: 0.9927\n",
            "Epoch 78/100\n",
            "422/422 [==============================] - 2s 4ms/step - loss: 0.0059 - acc: 0.9979 - val_loss: 0.0452 - val_acc: 0.9932\n",
            "Epoch 79/100\n",
            "422/422 [==============================] - 2s 4ms/step - loss: 0.0073 - acc: 0.9973 - val_loss: 0.0436 - val_acc: 0.9930\n",
            "Epoch 80/100\n",
            "422/422 [==============================] - 2s 5ms/step - loss: 0.0065 - acc: 0.9979 - val_loss: 0.0416 - val_acc: 0.9937\n",
            "Epoch 81/100\n",
            "422/422 [==============================] - 2s 5ms/step - loss: 0.0064 - acc: 0.9976 - val_loss: 0.0417 - val_acc: 0.9928\n",
            "Epoch 82/100\n",
            "422/422 [==============================] - 2s 4ms/step - loss: 0.0063 - acc: 0.9975 - val_loss: 0.0392 - val_acc: 0.9932\n",
            "Epoch 83/100\n",
            "422/422 [==============================] - 2s 4ms/step - loss: 0.0057 - acc: 0.9980 - val_loss: 0.0438 - val_acc: 0.9930\n",
            "Epoch 84/100\n",
            "422/422 [==============================] - 2s 5ms/step - loss: 0.0076 - acc: 0.9976 - val_loss: 0.0403 - val_acc: 0.9932\n",
            "Epoch 85/100\n",
            "422/422 [==============================] - 2s 4ms/step - loss: 0.0055 - acc: 0.9980 - val_loss: 0.0423 - val_acc: 0.9932\n",
            "Epoch 86/100\n",
            "422/422 [==============================] - 3s 7ms/step - loss: 0.0068 - acc: 0.9977 - val_loss: 0.0428 - val_acc: 0.9932\n",
            "Epoch 87/100\n",
            "422/422 [==============================] - 2s 5ms/step - loss: 0.0055 - acc: 0.9981 - val_loss: 0.0478 - val_acc: 0.9925\n",
            "Epoch 88/100\n",
            "422/422 [==============================] - 2s 5ms/step - loss: 0.0061 - acc: 0.9979 - val_loss: 0.0456 - val_acc: 0.9923\n",
            "Epoch 89/100\n",
            "422/422 [==============================] - 2s 4ms/step - loss: 0.0067 - acc: 0.9978 - val_loss: 0.0426 - val_acc: 0.9923\n",
            "Epoch 90/100\n",
            "422/422 [==============================] - 2s 4ms/step - loss: 0.0052 - acc: 0.9979 - val_loss: 0.0438 - val_acc: 0.9928\n",
            "Epoch 91/100\n",
            "422/422 [==============================] - 2s 4ms/step - loss: 0.0072 - acc: 0.9977 - val_loss: 0.0429 - val_acc: 0.9925\n",
            "Epoch 92/100\n",
            "422/422 [==============================] - 2s 4ms/step - loss: 0.0067 - acc: 0.9978 - val_loss: 0.0406 - val_acc: 0.9933\n",
            "Epoch 93/100\n",
            "422/422 [==============================] - 2s 5ms/step - loss: 0.0063 - acc: 0.9979 - val_loss: 0.0433 - val_acc: 0.9927\n",
            "Epoch 94/100\n",
            "422/422 [==============================] - 2s 4ms/step - loss: 0.0060 - acc: 0.9980 - val_loss: 0.0451 - val_acc: 0.9928\n",
            "Epoch 95/100\n",
            "422/422 [==============================] - 2s 5ms/step - loss: 0.0058 - acc: 0.9981 - val_loss: 0.0435 - val_acc: 0.9927\n",
            "Epoch 96/100\n",
            "422/422 [==============================] - 2s 4ms/step - loss: 0.0065 - acc: 0.9979 - val_loss: 0.0434 - val_acc: 0.9928\n",
            "Epoch 97/100\n",
            "422/422 [==============================] - 2s 4ms/step - loss: 0.0058 - acc: 0.9980 - val_loss: 0.0421 - val_acc: 0.9933\n",
            "Epoch 98/100\n",
            "422/422 [==============================] - 2s 4ms/step - loss: 0.0056 - acc: 0.9980 - val_loss: 0.0448 - val_acc: 0.9930\n",
            "Epoch 99/100\n",
            "422/422 [==============================] - 2s 4ms/step - loss: 0.0071 - acc: 0.9975 - val_loss: 0.0400 - val_acc: 0.9932\n",
            "Epoch 100/100\n",
            "422/422 [==============================] - 2s 5ms/step - loss: 0.0063 - acc: 0.9980 - val_loss: 0.0404 - val_acc: 0.9933\n"
          ]
        }
      ],
      "source": [
        "batch_size = 128\n",
        "epochs = 100\n",
        "\n",
        "model.compile(loss=\"categorical_crossentropy\", optimizer=\"adam\", metrics=[\"acc\"])\n",
        "\n",
        "hist = model.fit(x_train, y_train, batch_size=batch_size, epochs=epochs, validation_split=0.1)"
      ]
    },
    {
      "cell_type": "markdown",
      "metadata": {
        "id": "DB5OJ_xjdCFP"
      },
      "source": [
        "# **9. 학습된 모델 평가하기**\n",
        "\n",
        "### 얼마의 정확도를 가지는지"
      ]
    },
    {
      "cell_type": "code",
      "execution_count": null,
      "metadata": {
        "colab": {
          "base_uri": "https://localhost:8080/"
        },
        "id": "2NtTkT5cdCFP",
        "outputId": "48cb78f9-861a-4ce6-a742-4f069f181231"
      },
      "outputs": [
        {
          "output_type": "stream",
          "name": "stdout",
          "text": [
            "Test loss: 0.02612636797130108\n",
            "Test accuracy: 0.9937999844551086\n"
          ]
        }
      ],
      "source": [
        "score = model.evaluate(x_test, y_test, verbose=0)\n",
        "print(\"Test loss:\", score[0])\n",
        "print(\"Test accuracy:\", score[1])"
      ]
    },
    {
      "cell_type": "markdown",
      "metadata": {
        "id": "69FF2b4XdCFP"
      },
      "source": [
        "### 정확도와 손실을 그래프로 보기"
      ]
    },
    {
      "cell_type": "code",
      "execution_count": null,
      "metadata": {
        "colab": {
          "base_uri": "https://localhost:8080/",
          "height": 545
        },
        "id": "BAac0kUwdCFQ",
        "outputId": "bc50890f-ef0e-4cca-d099-4d4b598e2fab"
      },
      "outputs": [
        {
          "output_type": "display_data",
          "data": {
            "text/plain": [
              "<Figure size 432x288 with 1 Axes>"
            ],
            "image/png": "[encoded data removed]"
          },
          "metadata": {
            "needs_background": "light"
          }
        },
        {
          "output_type": "display_data",
          "data": {
            "text/plain": [
              "<Figure size 432x288 with 1 Axes>"
            ],
            "image/png": "[encoded data removed]"
          },
          "metadata": {
            "needs_background": "light"
          }
        }
      ],
      "source": [
        "acc      = hist.history['acc']\n",
        "val_acc  = hist.history['val_acc']\n",
        "val_loss = hist.history['val_loss']\n",
        "loss     = hist.history['loss']\n",
        "\n",
        "epochs = range(1,len(acc)+1)\n",
        "\n",
        "plt.plot(epochs, acc, 'bo', label = 'Training acc')\n",
        "plt.plot(epochs, val_acc, 'b', label = 'Validation acc')\n",
        "plt.title('Training and validation accuracy')\n",
        "plt.legend()\n",
        "\n",
        "plt.figure()\n",
        "\n",
        "plt.plot(epochs, loss, 'bo', label = 'Training loss')\n",
        "plt.plot(epochs, val_loss, 'b', label = 'Validation loss')\n",
        "plt.title('Training and validation loss')\n",
        "plt.legend()\n",
        "\n",
        "plt.show()"
      ]
    },
    {
      "cell_type": "markdown",
      "source": [
        "# **10. 모델 저장**\n",
        "###생성된 모델 저장하기"
      ],
      "metadata": {
        "id": "rTVH8XCSnQdC"
      }
    },
    {
      "cell_type": "code",
      "source": [
        "model.save('./my_mnist.h5')"
      ],
      "metadata": {
        "id": "0fmY8kIEnffU"
      },
      "execution_count": null,
      "outputs": []
    },
    {
      "cell_type": "markdown",
      "metadata": {
        "id": "Gi_J17N8dCFQ"
      },
      "source": [
        "# **11. 자신의 글씨를 맞추어 보기**\n",
        "\n",
        "### 얼마의 정확도를 가지는지?"
      ]
    },
    {
      "cell_type": "code",
      "execution_count": null,
      "metadata": {
        "id": "yuTEPNf1dCFQ"
      },
      "outputs": [],
      "source": [
        "import glob\n",
        "import cv2\n",
        "path = glob.glob('/content/test-img/' +'*.png') \n",
        "cv_img = []\n",
        "\n",
        "for img in path:\n",
        "    n = cv2.imread(img,cv2.IMREAD_GRAYSCALE)\n",
        "    n = cv2.resize(n, dsize=(28, 28), interpolation=cv2.INTER_AREA)\n",
        "    cv_img.append(n/255.0)\n",
        "p_data = np.array(cv_img,dtype='float32')"
      ]
    },
    {
      "cell_type": "code",
      "source": [
        "# from keras.models import load_model\n",
        "# model = load_model('./my_mnist.h5') "
      ],
      "metadata": {
        "id": "CI0qZt_2n4d-"
      },
      "execution_count": null,
      "outputs": []
    },
    {
      "cell_type": "code",
      "execution_count": null,
      "metadata": {
        "scrolled": true,
        "colab": {
          "base_uri": "https://localhost:8080/",
          "height": 208
        },
        "id": "ixebaWHCdCFR",
        "outputId": "efd70cc7-3950-4e27-91a8-373fdbb5d0c3"
      },
      "outputs": [
        {
          "output_type": "display_data",
          "data": {
            "text/plain": [
              "<Figure size 2160x2160 with 20 Axes>"
            ],
            "image/png": "[encoded data removed]"
          },
          "metadata": {
            "needs_background": "light"
          }
        }
      ],
      "source": [
        "rows = int(len(path)/10)+1\n",
        "cols = 10\n",
        "axes=[]\n",
        "fig=plt.figure(figsize=(30,30))\n",
        "\n",
        "for a in range(len(path)):\n",
        "    axes.append( fig.add_subplot(rows, cols, a+1) )\n",
        "    img = p_data[a].reshape(1, 28, 28, 1)\n",
        "    answer = np.argmax(model.predict(img))\n",
        "    subplot_title=(answer)\n",
        "    axes[-1].set_title(subplot_title, fontsize=30)  \n",
        "    plt.imshow(p_data[a],cmap='gray')\n",
        "plt.subplots_adjust(bottom=0.1,top=0.3)\n",
        "plt.show()\n",
        "\n",
        "\n"
      ]
    },
    {
      "cell_type": "code",
      "execution_count": null,
      "metadata": {
        "id": "fBX4rBZFdCFR"
      },
      "outputs": [],
      "source": []
    }
  ],
  "metadata": {
    "kernelspec": {
      "display_name": "Gangneung Jungang Highschool AI education TF 1.14 on Python 3.6 (CUDA 10)",
      "language": "python",
      "name": "python3"
    },
    "language_info": {
      "codemirror_mode": {
        "name": "ipython",
        "version": 3
      },
      "file_extension": ".py",
      "mimetype": "text/x-python",
      "name": "python",
      "nbconvert_exporter": "python",
      "pygments_lexer": "ipython3",
      "version": "3.6.9"
    },
    "colab": {
      "provenance": [],
      "collapsed_sections": [],
      "include_colab_link": true
    },
    "accelerator": "GPU"
  },
  "nbformat": 4,
  "nbformat_minor": 0
}